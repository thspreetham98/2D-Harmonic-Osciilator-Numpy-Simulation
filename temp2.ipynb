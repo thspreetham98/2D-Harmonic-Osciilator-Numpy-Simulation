{
 "cells": [
  {
   "cell_type": "code",
   "execution_count": 1,
   "metadata": {},
   "outputs": [],
   "source": [
    "import sympy as sp\n",
    "from sympy.physics.quantum.constants import hbar\n",
    "import numpy as np"
   ]
  },
  {
   "cell_type": "code",
   "execution_count": 2,
   "metadata": {},
   "outputs": [],
   "source": [
    "m, omega, x, y = sp.symbols('m omega x y', real=True)"
   ]
  },
  {
   "cell_type": "markdown",
   "metadata": {},
   "source": [
    "# Ground state HO"
   ]
  },
  {
   "cell_type": "code",
   "execution_count": 3,
   "metadata": {},
   "outputs": [
    {
     "data": {
      "text/latex": [
       "$\\displaystyle \\frac{\\sqrt[4]{m \\omega} e^{- \\frac{m \\omega x^{2}}{2 \\hbar}}}{\\sqrt[4]{\\hbar} \\sqrt[4]{\\pi}}$"
      ],
      "text/plain": [
       "(m*omega)**(1/4)*exp(-m*omega*x**2/(2*hbar))/(hbar**(1/4)*pi**(1/4))"
      ]
     },
     "metadata": {},
     "output_type": "display_data"
    },
    {
     "data": {
      "text/latex": [
       "$\\displaystyle \\frac{\\sqrt[4]{m \\omega} e^{- \\frac{m \\omega y^{2}}{2 \\hbar}}}{\\sqrt[4]{\\hbar} \\sqrt[4]{\\pi}}$"
      ],
      "text/plain": [
       "(m*omega)**(1/4)*exp(-m*omega*y**2/(2*hbar))/(hbar**(1/4)*pi**(1/4))"
      ]
     },
     "metadata": {},
     "output_type": "display_data"
    }
   ],
   "source": [
    "# Ground state wavefunction of HO in 1-D\n",
    "psi_x = (sp.Pow((m*omega/(sp.pi*hbar)), sp.Rational(1, 4))) * sp.exp(-m*omega*x**2/(2*hbar))\n",
    "\n",
    "psi_y = (sp.Pow((m*omega/(sp.pi*hbar)), sp.Rational(1, 4))) * sp.exp(-m*omega*y**2/(2*hbar))\n",
    "display(psi_x)\n",
    "display(psi_y)"
   ]
  },
  {
   "cell_type": "code",
   "execution_count": 4,
   "metadata": {},
   "outputs": [
    {
     "data": {
      "text/latex": [
       "$\\displaystyle \\frac{\\sqrt{m \\omega} e^{- \\frac{m \\omega x^{2}}{2 \\hbar}} e^{- \\frac{m \\omega y^{2}}{2 \\hbar}}}{\\sqrt{\\hbar} \\sqrt{\\pi}}$"
      ],
      "text/plain": [
       "sqrt(m*omega)*exp(-m*omega*x**2/(2*hbar))*exp(-m*omega*y**2/(2*hbar))/(sqrt(hbar)*sqrt(pi))"
      ]
     },
     "execution_count": 4,
     "metadata": {},
     "output_type": "execute_result"
    }
   ],
   "source": [
    "# Ground state wavefunction of HO in 2-D\n",
    "psi = psi_x * psi_y\n",
    "psi"
   ]
  },
  {
   "cell_type": "markdown",
   "metadata": {},
   "source": [
    "# n-th state HO in 2D"
   ]
  },
  {
   "cell_type": "code",
   "execution_count": 5,
   "metadata": {},
   "outputs": [],
   "source": [
    "def norm_factor(n: int):\n",
    "    return 1/sp.sqrt((2**n)*sp.factorial(n))"
   ]
  },
  {
   "cell_type": "code",
   "execution_count": 6,
   "metadata": {},
   "outputs": [
    {
     "data": {
      "text/latex": [
       "$\\displaystyle \\frac{\\sqrt[4]{m \\omega} e^{- \\frac{m \\omega x^{2}}{2 \\hbar}}}{\\sqrt[4]{\\hbar} \\sqrt[4]{\\pi}}$"
      ],
      "text/plain": [
       "(m*omega)**(1/4)*exp(-m*omega*x**2/(2*hbar))/(hbar**(1/4)*pi**(1/4))"
      ]
     },
     "execution_count": 6,
     "metadata": {},
     "output_type": "execute_result"
    }
   ],
   "source": [
    "def ground_state_ho_1d(n: int):\n",
    "    if type(n) != int:\n",
    "        raise ValueError(\"n must be an integer\")\n",
    "    m, omega, x = sp.symbols('m omega x', real=True)\n",
    "    psi_n = (sp.Pow((m*omega/(sp.pi*hbar)), sp.Rational(1, 4))) \n",
    "    psi_n *= 1/sp.sqrt(2**n * sp.factorial(n))\n",
    "    psi_n *= sp.polys.orthopolys.hermite_poly(n, x)\n",
    "    psi_n *= sp.exp(-m*omega*x**2/(2*hbar))\n",
    "    return psi_n\n",
    "    \n",
    "ground_state_ho_1d(0)"
   ]
  },
  {
   "cell_type": "code",
   "execution_count": 7,
   "metadata": {},
   "outputs": [
    {
     "data": {
      "text/latex": [
       "$\\displaystyle \\frac{\\sqrt{m \\omega} e^{- \\frac{m \\omega x^{2}}{2 \\hbar}} e^{- \\frac{m \\omega y^{2}}{2 \\hbar}}}{\\sqrt{\\hbar} \\sqrt{\\pi}}$"
      ],
      "text/plain": [
       "sqrt(m*omega)*exp(-m*omega*x**2/(2*hbar))*exp(-m*omega*y**2/(2*hbar))/(sqrt(hbar)*sqrt(pi))"
      ]
     },
     "execution_count": 7,
     "metadata": {},
     "output_type": "execute_result"
    }
   ],
   "source": [
    "def ground_state_ho_2d(n):\n",
    "    psi_x = ground_state_ho_1d(n)\n",
    "    psi_y = ground_state_ho_1d(n).subs(x, y)\n",
    "    psi = psi_x * psi_y\n",
    "    return psi\n",
    "    \n",
    "ground_state_ho_2d(0)"
   ]
  }
 ],
 "metadata": {
  "kernelspec": {
   "display_name": ".venv",
   "language": "python",
   "name": "python3"
  },
  "language_info": {
   "codemirror_mode": {
    "name": "ipython",
    "version": 3
   },
   "file_extension": ".py",
   "mimetype": "text/x-python",
   "name": "python",
   "nbconvert_exporter": "python",
   "pygments_lexer": "ipython3",
   "version": "3.11.4"
  },
  "orig_nbformat": 4
 },
 "nbformat": 4,
 "nbformat_minor": 2
}
